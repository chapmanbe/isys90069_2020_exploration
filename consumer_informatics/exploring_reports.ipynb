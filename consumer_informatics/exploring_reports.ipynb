{
 "cells": [
  {
   "cell_type": "code",
   "execution_count": null,
   "metadata": {},
   "outputs": [],
   "source": [
    "import pymysql\n",
    "import pandas as pd\n",
    "MIMICHOST = \"35.233.174.193\"\n",
    "import ipywidgets as ipw\n",
    "from IPython.display import display, HTML, clear_output\n",
    "from collections import Counter\n",
    "def get_mimic_connection():\n",
    "    conn = pymysql.connect(\n",
    "        host=MIMICHOST, port=3306, user=\"jovyan\", passwd=\"jovyan\", db=\"mimic2\"\n",
    "    )\n",
    "    return conn\n"
   ]
  },
  {
   "cell_type": "code",
   "execution_count": null,
   "metadata": {},
   "outputs": [],
   "source": [
    "conn = get_mimic_connection()"
   ]
  },
  {
   "cell_type": "code",
   "execution_count": null,
   "metadata": {},
   "outputs": [],
   "source": [
    "rad_text = pd.read_sql(\"\"\"SELECT hadm_id, icustay_id, charttime, text \n",
    "                          FROM noteevents\n",
    "                          WHERE category='RADIOLOGY_REPORT'\"\"\",\n",
    "                       conn)\n",
    "rad_text"
   ]
  },
  {
   "cell_type": "code",
   "execution_count": null,
   "metadata": {},
   "outputs": [],
   "source": [
    "@ipw.interact(df=ipw.fixed(rad_text), i=ipw.IntSlider(max=rad_text.shape[0]))\n",
    "def view_report(df,i):\n",
    "    #clear_output()\n",
    "    print((df.loc[i,\"text\"]))"
   ]
  },
  {
   "cell_type": "code",
   "execution_count": null,
   "metadata": {},
   "outputs": [],
   "source": [
    "import spacy"
   ]
  },
  {
   "cell_type": "code",
   "execution_count": null,
   "metadata": {},
   "outputs": [],
   "source": [
    "import re"
   ]
  },
  {
   "cell_type": "code",
   "execution_count": null,
   "metadata": {},
   "outputs": [],
   "source": [
    "#!python -m pip install https://github.com/abchapman93/spacy_models/raw/master/releases/en_info_3700_i2b2_2012-0.1.0/dist/en_info_3700_i2b2_2012-0.1.0.tar.gz"
   ]
  },
  {
   "cell_type": "code",
   "execution_count": null,
   "metadata": {},
   "outputs": [],
   "source": [
    "nlp = spacy.load(\"en_info_3700_i2b2_2012\")"
   ]
  },
  {
   "cell_type": "code",
   "execution_count": null,
   "metadata": {},
   "outputs": [],
   "source": [
    "#from clinical_sectionizer import Sectionizer"
   ]
  },
  {
   "cell_type": "code",
   "execution_count": null,
   "metadata": {},
   "outputs": [],
   "source": [
    "#s = Sectionizer(nlp)"
   ]
  },
  {
   "cell_type": "code",
   "execution_count": null,
   "metadata": {},
   "outputs": [],
   "source": [
    "from spacy.matcher import Matcher\n",
    "# Add match ID \"HelloWorld\" with no callback and one pattern\n"
   ]
  },
  {
   "cell_type": "code",
   "execution_count": null,
   "metadata": {},
   "outputs": [],
   "source": [
    "with nlp.disable_pipes('tagger','parser', 'ner'):\n",
    "    docs = list(nlp.pipe(rad_text.text))"
   ]
  },
  {
   "cell_type": "code",
   "execution_count": null,
   "metadata": {},
   "outputs": [],
   "source": [
    "def prune_overlapping_matches(matches, strategy=\"longest\"):\n",
    "    if strategy != \"longest\":\n",
    "        raise NotImplementedError()\n",
    "\n",
    "    # Make a copy and sort\n",
    "    unpruned = sorted(matches, key=lambda x: (x[1], x[2]))\n",
    "    pruned = []\n",
    "    num_matches = len(matches)\n",
    "    if num_matches == 0:\n",
    "        return matches\n",
    "    curr_match = unpruned.pop(0)\n",
    "\n",
    "    while True:\n",
    "        if len(unpruned) == 0:\n",
    "            pruned.append(curr_match)\n",
    "            break\n",
    "        next_match = unpruned.pop(0)\n",
    "\n",
    "        # Check if they overlap\n",
    "        if overlaps(curr_match, next_match):\n",
    "            # Choose the larger span\n",
    "            longer_span = max(curr_match, next_match, key=lambda x: (x[2] - x[1]))\n",
    "            pruned.append(longer_span)\n",
    "            if len(unpruned) == 0:\n",
    "                break\n",
    "            curr_match = unpruned.pop(0)\n",
    "        else:\n",
    "            pruned.append(curr_match)\n",
    "            curr_match = next_match\n",
    "    # Recursive base point\n",
    "    if len(pruned) == num_matches:\n",
    "        return pruned\n",
    "    # Recursive function call\n",
    "    else:\n",
    "        return prune_overlapping_matches(pruned)\n",
    "\n",
    "def overlaps(a, b):\n",
    "    if _span_overlaps(a, b) or _span_overlaps(b, a):\n",
    "        return True\n",
    "    return False\n",
    "\n",
    "def _span_overlaps(a, b):\n",
    "    _, a_start, a_end = a\n",
    "    _, b_start, b_end = b\n",
    "    if a_start >= b_start and a_start < b_end:\n",
    "        return True\n",
    "    if a_end > b_start and a_end <= b_end:\n",
    "        return True\n",
    "    return False\n",
    "\n",
    "def matches_to_spans(doc, matches, set_label=True):\n",
    "    spans = []\n",
    "    for (rule_id, start, end) in matches:\n",
    "        if set_label:\n",
    "            label = doc.vocab.strings[rule_id]\n",
    "        else:\n",
    "            label = None\n",
    "        spans.append(Span(doc, start=start, end=end, label=label))\n",
    "    return spans"
   ]
  },
  {
   "cell_type": "code",
   "execution_count": null,
   "metadata": {},
   "outputs": [],
   "source": [
    "matcher = Matcher(nlp.vocab)\n",
    "pattern1 = [{\"TEXT\": {\"REGEX\": \"[A-Z\\/-]+\"}, \"OP\":\"*\"},\n",
    "           {\"IS_UPPER\": True},\n",
    "           {\"TEXT\":\":\"}]\n",
    "matcher.add(\"POTENTIAL_SECTIONS\", None, pattern1)\n"
   ]
  },
  {
   "cell_type": "code",
   "execution_count": null,
   "metadata": {},
   "outputs": [],
   "source": [
    "r1 = re.compile(r\"\"\"[A-Z]{1,1}[A-Z\\s/]*[A-Z]{1,1}:\"\"\")\n",
    "txt = \"of allergies. CHEST: W/CONTRAST: There is no axillary lymphadenopathy.\"\n",
    "txt2= \"blah blah blah INTRAVENOUS CONTRAST: and blah\"\n",
    "#print(r1.findall(txt))\n",
    "#print(r1.findall(txt2))"
   ]
  },
  {
   "cell_type": "code",
   "execution_count": null,
   "metadata": {},
   "outputs": [],
   "source": [
    "d = nlp(txt+txt2)"
   ]
  },
  {
   "cell_type": "code",
   "execution_count": null,
   "metadata": {},
   "outputs": [],
   "source": [
    "for m in matcher(d):\n",
    "    print(m)\n",
    "    print(d[m[1]:m[2]].text)"
   ]
  },
  {
   "cell_type": "code",
   "execution_count": null,
   "metadata": {},
   "outputs": [],
   "source": [
    "matches = matcher(d)\n",
    "prune_overlapping_matches(matches)"
   ]
  },
  {
   "cell_type": "code",
   "execution_count": null,
   "metadata": {},
   "outputs": [],
   "source": [
    "psections = [d[start:end].text.strip() for d in docs for match_id, start, end in prune_overlapping_matches(matcher(d))]"
   ]
  },
  {
   "cell_type": "code",
   "execution_count": null,
   "metadata": {},
   "outputs": [],
   "source": [
    "Counter(psections).most_common(50)"
   ]
  },
  {
   "cell_type": "code",
   "execution_count": null,
   "metadata": {},
   "outputs": [],
   "source": [
    "for match_id, start, end in matches:\n",
    "    string_id = nlp.vocab.strings[match_id]  # Get string representation\n",
    "    span = doc[start:end]  # The matched span\n",
    "    print(match_id, string_id, start, end, span.text)"
   ]
  },
  {
   "cell_type": "code",
   "execution_count": null,
   "metadata": {},
   "outputs": [],
   "source": [
    "spacy.__version__"
   ]
  },
  {
   "cell_type": "code",
   "execution_count": null,
   "metadata": {},
   "outputs": [],
   "source": [
    "matcher2 = Matcher(nlp.vocab)\n",
    "pattern2 = [{\"lower\": \"addendum\"},\n",
    "           ]\n",
    "matcher2.add(\"POTENTIAL_SECTIONS\", None, pattern2)"
   ]
  },
  {
   "cell_type": "code",
   "execution_count": null,
   "metadata": {},
   "outputs": [],
   "source": [
    "addendums = [i for i in range(len(docs)) if prune_overlapping_matches(matcher2(docs[i]))]"
   ]
  },
  {
   "cell_type": "code",
   "execution_count": null,
   "metadata": {},
   "outputs": [],
   "source": [
    "len(addendums)"
   ]
  },
  {
   "cell_type": "code",
   "execution_count": null,
   "metadata": {},
   "outputs": [],
   "source": [
    "addendums"
   ]
  },
  {
   "cell_type": "code",
   "execution_count": null,
   "metadata": {},
   "outputs": [],
   "source": [
    "matcher3 = Matcher(nlp.vocab)\n",
    "pattern3 = [{\"TEXT\": \"IMPRESSION\"}, {\"TEXT\":\":\"},]\n",
    "matcher3.add(\"IMPRESS1\", None, pattern3)\n",
    "matcher3(nlp(\"IMPRESSION:\"))"
   ]
  },
  {
   "cell_type": "code",
   "execution_count": null,
   "metadata": {},
   "outputs": [],
   "source": [
    "no_impression = [i for i in range(len(docs)) if not bool(prune_overlapping_matches(matcher3(docs[i])))]"
   ]
  },
  {
   "cell_type": "code",
   "execution_count": null,
   "metadata": {},
   "outputs": [],
   "source": [
    "len(no_impression)\n",
    "    "
   ]
  },
  {
   "cell_type": "code",
   "execution_count": null,
   "metadata": {},
   "outputs": [],
   "source": [
    "matcher3(docs[2])"
   ]
  },
  {
   "cell_type": "code",
   "execution_count": null,
   "metadata": {},
   "outputs": [],
   "source": [
    "[prune_overlapping_matches(matcher3(docs[i])) for i in range(20)]"
   ]
  },
  {
   "cell_type": "code",
   "execution_count": null,
   "metadata": {},
   "outputs": [],
   "source": [
    "@ipw.interact(df=ipw.fixed(rad_text.iloc[no_impression,:].reset_index()), i=ipw.IntSlider(max=rad_text.iloc[no_impression,:].shape[0]))\n",
    "def _view_report(df,i):\n",
    "    #clear_output()\n",
    "    print((df.loc[i]))"
   ]
  },
  {
   "cell_type": "code",
   "execution_count": null,
   "metadata": {},
   "outputs": [],
   "source": [
    "tmp = rad_text.iloc[no_impression,:]\n",
    "tmp.shape"
   ]
  },
  {
   "cell_type": "code",
   "execution_count": null,
   "metadata": {},
   "outputs": [],
   "source": [
    "tmp.reset_index()"
   ]
  },
  {
   "cell_type": "code",
   "execution_count": null,
   "metadata": {},
   "outputs": [],
   "source": [
    "docs[no_impression[7279]], no_impression[7279]"
   ]
  },
  {
   "cell_type": "code",
   "execution_count": null,
   "metadata": {},
   "outputs": [],
   "source": [
    "no_impression[7907]"
   ]
  },
  {
   "cell_type": "code",
   "execution_count": null,
   "metadata": {},
   "outputs": [],
   "source": [
    "docs[no_impression[7907]]"
   ]
  },
  {
   "cell_type": "code",
   "execution_count": null,
   "metadata": {},
   "outputs": [],
   "source": [
    "matcher = Matcher(nlp.vocab)\n",
    "pattern1 = [{\"TEXT\": {\"REGEX\": \"[A-Z\\/-]+\"}, \"OP\":\"*\"},\n",
    "           {\"IS_UPPER\": True},\n",
    "           {\"TEXT\":\":\", \"OP\":\"?\"}]\n",
    "matcher.add(\"POTENTIAL_SECTIONS\", None, pattern1)"
   ]
  }
 ],
 "metadata": {
  "kernelspec": {
   "display_name": "Python 3",
   "language": "python",
   "name": "python3"
  },
  "language_info": {
   "codemirror_mode": {
    "name": "ipython",
    "version": 3
   },
   "file_extension": ".py",
   "mimetype": "text/x-python",
   "name": "python",
   "nbconvert_exporter": "python",
   "pygments_lexer": "ipython3",
   "version": "3.7.4"
  }
 },
 "nbformat": 4,
 "nbformat_minor": 4
}
