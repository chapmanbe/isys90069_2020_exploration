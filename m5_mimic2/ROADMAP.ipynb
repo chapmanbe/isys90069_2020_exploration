{
 "cells": [
  {
   "cell_type": "markdown",
   "metadata": {},
   "source": [
    "# Welcome to Exploring MIMIC2 Data"
   ]
  },
  {
   "cell_type": "code",
   "execution_count": null,
   "metadata": {},
   "outputs": [],
   "source": [
    "from IPython.display import YouTubeVideo, display\n"
   ]
  },
  {
   "cell_type": "markdown",
   "metadata": {},
   "source": [
    "## Work through the notebooks in the following order\n",
    "\n",
    "1. [What Does MIMIC Look Like?](what_does_mimic_look_like.ipynb)\n",
    "1. [Case time line visualization](visualize_case_timeline.ipynb)\n",
    "1. [Explore single-subject data](explore_mimic_data.ipynb)\n",
    "1. [Compare data across patients](multisubject_exploration.ipynb)\n",
    "\n",
    "### You can keep this notebook open\n",
    "#### But remember to close and shutdown the other notebooks when you are finished with them!"
   ]
  }
 ],
 "metadata": {
  "kernelspec": {
   "display_name": "Python 3",
   "language": "python",
   "name": "python3"
  },
  "language_info": {
   "codemirror_mode": {
    "name": "ipython",
    "version": 3
   },
   "file_extension": ".py",
   "mimetype": "text/x-python",
   "name": "python",
   "nbconvert_exporter": "python",
   "pygments_lexer": "ipython3",
   "version": "3.7.6"
  }
 },
 "nbformat": 4,
 "nbformat_minor": 4
}
