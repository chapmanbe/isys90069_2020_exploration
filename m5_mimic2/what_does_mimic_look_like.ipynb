{
 "cells": [
  {
   "cell_type": "markdown",
   "metadata": {},
   "source": [
    "# A Quick Look at the MIMIC II Data Set\n",
    "\n",
    "### First install some dependencies\n",
    "\n",
    "These dependencies are for all the notebooks, so you don't need to run them in the others, although I've included this cell in each one."
   ]
  },
  {
   "cell_type": "code",
   "execution_count": null,
   "metadata": {},
   "outputs": [],
   "source": [
    "### you may need to install jinja2. To do so,\n",
    "# run this cell\n",
    "!python -m pip install jinja2\n",
    "!python -m pip install pyarrow\n",
    "!python -m pip install -U git+https://github.com/chapmanbe/dminteract#egg=dminteract"
   ]
  },
  {
   "cell_type": "code",
   "execution_count": null,
   "metadata": {
    "deletable": false
   },
   "outputs": [],
   "source": [
    "import warnings\n",
    "warnings.simplefilter(\"ignore\")\n",
    "from m5utils.mutils import *\n",
    "from dminteract.modules.m5 import *\n"
   ]
  },
  {
   "cell_type": "markdown",
   "metadata": {},
   "source": [
    "MIMIC II data are stored in a relational database. This is not an exploration of relational database theory or data modeling, but here is my novice quick description.\n",
    "\n",
    "* Relational databases seek to achieve accurate data representation by eliminating (reducing)  data redundancies and thus the opportunities for data inconsistencies.\n",
    "\n",
    "This is achieved by splitting data across **tables** and then **joining** the data back together when required."
   ]
  },
  {
   "cell_type": "markdown",
   "metadata": {},
   "source": [
    "### First we need to generate a connection to the MIMIC database\n",
    "\n",
    "As you work through this notebook, you might occasionally get an error that looks something like this (although much longer):\n",
    "\n",
    "```Python\n",
    "---------------------------------------------------------------------------\n",
    "BrokenPipeError                           Traceback (most recent call last)\n",
    "...\n",
    "(2006, \"MySQL server has gone away (BrokenPipeError(32, 'Broken pipe'))\")\n",
    "\n",
    "```\n",
    "\n",
    "This just means that the connection with the database has timed out. All you need to do is come back up here and rerun the code below to get a new database connection."
   ]
  },
  {
   "cell_type": "code",
   "execution_count": null,
   "metadata": {
    "deletable": false,
    "editable": false
   },
   "outputs": [],
   "source": [
    "conn = get_mimic_connection()"
   ]
  },
  {
   "cell_type": "markdown",
   "metadata": {
    "deletable": false,
    "editable": false
   },
   "source": [
    "## Let's take a look at the tables\n",
    "\n",
    ">Before you can do anything, you have to understand tables. If you don't have a table, you have nothing to work on. The table is the standard unit of information in a relational database. Everything revolves around tables. Tables are composed of rows and columns. And while that sounds simple, the sad truth is that tables are not simple. (*The Definitive Guide to SQLite*, p. 80 [owens2006definitive})\n",
    "\n",
    "\n",
    "Since I said data are split across tables, let's look at the tables in the MIMIC II demo database.\n",
    "\n",
    "### Take a look at the Tables in the Database"
   ]
  },
  {
   "cell_type": "code",
   "execution_count": null,
   "metadata": {
    "deletable": false,
    "editable": false
   },
   "outputs": [],
   "source": [
    "tables = get_tables(conn)\n",
    "HTML(dlist(tables[\"Tables_in_mimic2\"].to_list(), ncols=5, sort=True))"
   ]
  },
  {
   "cell_type": "markdown",
   "metadata": {
    "deletable": false,
    "editable": false
   },
   "source": [
    "## By my reckoning, we have three types of tables\n",
    "\n",
    "* Database-internal table(s) (db_schema)\n",
    "* Tables that start with `a_`\n",
    "* Tables that start with `d_`\n",
    "* Everything else"
   ]
  },
  {
   "cell_type": "markdown",
   "metadata": {
    "deletable": false,
    "editable": false
   },
   "source": [
    "## What are in the tables?\n",
    "### We can use the MySQL command `DESCRIBE` to see the definitions in each table"
   ]
  },
  {
   "cell_type": "code",
   "execution_count": null,
   "metadata": {
    "deletable": false,
    "editable": false
   },
   "outputs": [],
   "source": [
    "table_names = [row[\"Tables_in_mimic2\"] for _,row in tables.iterrows()]\n",
    "\n",
    "table_descriptions = get_table_descriptons(conn)\n",
    "\n"
   ]
  },
  {
   "cell_type": "markdown",
   "metadata": {
    "deletable": false,
    "editable": false
   },
   "source": [
    "### Take a look at `d_patients`\n",
    "\n",
    "This is the table that defines the individuals in the rest of the database. Each individual is  characterized by a unique identifer (`subject_id`), their sex described by a single-character, a date of birth, a date of death, and a single-character flag indicating whether the patient died in the hospital. "
   ]
  },
  {
   "cell_type": "code",
   "execution_count": null,
   "metadata": {
    "deletable": false,
    "editable": false
   },
   "outputs": [],
   "source": [
    "display(table_descriptions[\"d_patients\"])\n",
    "\n",
    "view_table(\"d_patients\", 5, conn)"
   ]
  },
  {
   "cell_type": "markdown",
   "metadata": {
    "deletable": false,
    "editable": false
   },
   "source": [
    "### Examine `medevents`\n",
    "\n",
    "For a patient being given medication (medication event), we would want to know things like who was the medicine given to, who gave it to them, what was the medicine, when was it given, etc.\n",
    "\n",
    "Examining the `medevents` table we an see  the nature of a relational database\n",
    "\n",
    "* Instead of the name of the medication, we have `itemid` which refers to a medication defined in another table (in this case `d_meditems`)\n",
    "* Instead of the name of the person administering the medication, we have `cgid` (caregiver id) which refers to someone defined in the table `d_caregivers`."
   ]
  },
  {
   "cell_type": "code",
   "execution_count": null,
   "metadata": {
    "deletable": false,
    "editable": false
   },
   "outputs": [],
   "source": [
    "display(table_descriptions[\"medevents\"])\n",
    "view_table(\"medevents\", 5, conn)"
   ]
  },
  {
   "cell_type": "markdown",
   "metadata": {
    "deletable": false,
    "editable": false
   },
   "source": [
    "Similar to the `d_patients` table, there are values like dose that are provided explicity (e.g. 1350) and the unit of measurement for dose (`doseuom=Uhr` (unit per hour), but there are also a large number of values (recognized by the `id` component in the name) that are references to values defined in other tables. These ids are called **foreign keys.** Some of these include:\n",
    "\n",
    "* `subect_id` that is defined in `d_patients`\n",
    "* `cgid` that is defined `d_caregivers`\n",
    "* `itemid` that is defined in `d_meditems`\n",
    "\n",
    "Another important idea is represented in the column named `Null`. If the value is `YES`, that means the value is allowed to be missing. A value of `NO` means that a value must be provided. The issue of missing data will be very important for many applications.\n",
    "\n",
    "To fully understand an entry, we need to join the values that are provided in a `medevent` entry with the values defined in the other tables referred to with the `id` values (foreign keys).\n",
    "\n",
    "### Here is an example\n",
    "\n",
    "* Joining information from `medevents`, `d_caregivers`, `d_careunits`, `d_meditems`, and `d_patients`\n",
    "* I'm randomly selecting 50 cases"
   ]
  },
  {
   "cell_type": "code",
   "execution_count": null,
   "metadata": {
    "deletable": false,
    "editable": false
   },
   "outputs": [],
   "source": [
    "devents = pd.read_sql(\n",
    "\"\"\"SELECT me.subject_id,\n",
    "          dp.sex,\n",
    "          dp.dob,\n",
    "          me.charttime,\n",
    "          dm.label as medname,\n",
    "          me.dose,\n",
    "          me.doseuom,\n",
    "          me.route,\n",
    "          me.cgid,\n",
    "          dc.label as cglabel,\n",
    "          du.label as cuname\n",
    "   FROM ((((medevents AS me \n",
    "              INNER JOIN d_caregivers AS dc ON \n",
    "                  me.cgid = dc.cgid)\n",
    "              INNER JOIN d_careunits AS du ON\n",
    "                  me.cuid = du.cuid) \n",
    "              INNER JOIN d_meditems as dm ON\n",
    "                  me.itemid = dm.itemid) \n",
    "              INNER JOIN d_patients as dp ON\n",
    "                  me.subject_id = dp.subject_id) ORDER BY RAND() LIMIT 50\"\"\",conn)\n",
    "devents.head()"
   ]
  },
  {
   "cell_type": "markdown",
   "metadata": {
    "deletable": false,
    "editable": false
   },
   "source": [
    "### With a little bit of manipulation we can get the age\n",
    "\n",
    "* Compute age\n",
    "* Rename some of the columns, drop others\n",
    "* **Note:** I'm doing all this in Python. If I were better at SQL, these steps could all be done within the query"
   ]
  },
  {
   "cell_type": "code",
   "execution_count": null,
   "metadata": {
    "deletable": false,
    "editable": false
   },
   "outputs": [],
   "source": [
    "devents[\"age in years\"] = devents.apply(lambda r: (r.charttime - r.dob).days/365.2425, axis=1)\n",
    "devents2 = devents[[\"subject_id\", \"sex\", \"age in years\", \"charttime\", \"medname\", \n",
    "                   \"dose\", \"doseuom\", \"route\", \"cgid\", \"cglabel\", \"cuname\"]]\n",
    "devents2"
   ]
  },
  {
   "cell_type": "markdown",
   "metadata": {},
   "source": [
    "### Here is a simple (but ugly) view of what is in each table"
   ]
  },
  {
   "cell_type": "code",
   "execution_count": null,
   "metadata": {
    "deletable": false,
    "editable": false
   },
   "outputs": [],
   "source": [
    "tcs = get_table_columns(table_descriptions)\n",
    "HTML(ddict(tcs))"
   ]
  },
  {
   "cell_type": "markdown",
   "metadata": {
    "deletable": false,
    "editable": false
   },
   "source": [
    "#### Here is a simple interactive view of foreign keys and what they (might) refer to\n",
    "\n",
    "The displayed table shows for a selected column (`col`) from `tbl` all the other MIMIC2 tables that have that same column name."
   ]
  },
  {
   "cell_type": "code",
   "execution_count": null,
   "metadata": {
    "deletable": false,
    "editable": false
   },
   "outputs": [],
   "source": [
    "\n",
    "    \n",
    "table_names = widgets.Dropdown(options = tcs.keys())\n",
    "col_names = widgets.Dropdown(options = tcs[table_names.value])\n",
    "lbl = widgets.HTML(value=\"Tables where is also found.\")\n",
    "def update_col_choices(change):\n",
    "    col_names.options = tcs[change.new]\n",
    "    \n",
    "table_names.observe(update_col_choices, names=\"value\")\n",
    "def get_db_links(tbls, tbl, col):\n",
    "    lbl.value = markdown(\"## Tables where `%s` is also found\"%col)\n",
    "    tables = [t for t in tbls if col in tbls[t] and t != tbl]\n",
    "    return HTML(dlist(tables, ncols=8, sort=True))\n",
    "display(lbl)\n",
    "i1 = interact(get_db_links, tbls=fixed(tcs), tbl = table_names, col=col_names)"
   ]
  },
  {
   "cell_type": "markdown",
   "metadata": {
    "deletable": false,
    "editable": false
   },
   "source": [
    "### Some general comments\n",
    "\n",
    "The database we are using is a *demo* database. Some tables are empty and others have values and foreign keys that I cannot figure. For example, I cannot find where the column `solutionid` in `medevents` is referring to, so we cannot decipher. There is not great documentation.\n",
    "\n",
    "With completion of some simple online ethics training, you can get access to the complete version of [MIMIC (now MIMIC 3)](https://mimic.physionet.org/), which is well documented, has lots of example code available, and is one of the most valuable resources for clinical informatics research in the world."
   ]
  },
  {
   "cell_type": "markdown",
   "metadata": {},
   "source": [
    "### Questions"
   ]
  },
  {
   "cell_type": "code",
   "execution_count": null,
   "metadata": {
    "deletable": false,
    "editable": false
   },
   "outputs": [],
   "source": [
    "for q in question_banks[\"qbank1\"].values():\n",
    "    display(q)"
   ]
  },
  {
   "cell_type": "markdown",
   "metadata": {
    "deletable": false,
    "editable": false
   },
   "source": [
    "### [Go on to the next notebook](visualize_case_timeline.ipynb)"
   ]
  },
  {
   "cell_type": "code",
   "execution_count": null,
   "metadata": {},
   "outputs": [],
   "source": [
    "for t in table_names:\n",
    "    print(t)\n",
    "    display(view_table(t, 20, conn))\n",
    "    print(\"-\"*40)"
   ]
  },
  {
   "cell_type": "code",
   "execution_count": null,
   "metadata": {},
   "outputs": [],
   "source": []
  }
 ],
 "metadata": {
  "kernelspec": {
   "display_name": "Python 3",
   "language": "python",
   "name": "python3"
  },
  "language_info": {
   "codemirror_mode": {
    "name": "ipython",
    "version": 3
   },
   "file_extension": ".py",
   "mimetype": "text/x-python",
   "name": "python",
   "nbconvert_exporter": "python",
   "pygments_lexer": "ipython3",
   "version": "3.7.6"
  }
 },
 "nbformat": 4,
 "nbformat_minor": 4
}
