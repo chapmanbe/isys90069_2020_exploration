{
 "cells": [
  {
   "cell_type": "markdown",
   "metadata": {},
   "source": [
    "# Basic Image Standards\n",
    "\n",
    "In this notebooks we are going to explore some of the different standards that are used to store photographs and similar images. Specifically, we will explore the following standards\n",
    "\n",
    "* [TGA](https://en.wikipedia.org/wiki/Truevision_TGA)\n",
    "* [PNG](https://www.w3.org/TR/2003/REC-PNG-20031110/)\n",
    "* [TIFF](https://www.adobe.io/open/standards/TIFF.html)\n",
    "* [JPEG](https://jpeg.org/jpeg/)"
   ]
  },
  {
   "cell_type": "code",
   "execution_count": 2,
   "metadata": {},
   "outputs": [],
   "source": [
    "from dminteract.modules.m4c import *\n"
   ]
  },
  {
   "cell_type": "markdown",
   "metadata": {},
   "source": [
    "We are going to start with a sample photograph of my daughter (used with her permission!).\n",
    "\n",
    "<img src=\"./data/daughter.jpg\" alt=\"daughter with basketball\" width=\"128\" height=\"192\">"
   ]
  },
  {
   "cell_type": "markdown",
   "metadata": {
    "solution2": "hidden",
    "solution2_first": true
   },
   "source": [
    "Before we proceed, I want you to brainstorm about what be the minimum metadata you would need to describe this image."
   ]
  },
  {
   "cell_type": "markdown",
   "metadata": {
    "solution2": "hidden"
   },
   "source": [
    "### Type your thoughts here in a bulletted list\n",
    "\n",
    "* Here is the 1st element of a list\n",
    "* Here is the 2nd element of a list\n",
    "* size\n",
    "* contents (e.g., person, dog, building)\n",
    "* color/b&w\n",
    "* "
   ]
  },
  {
   "cell_type": "markdown",
   "metadata": {
    "solution2": "hidden"
   },
   "source": [
    "### Once you have typed your thoughts about the metadata...\n",
    "\n",
    "Let's look at the metadata that is stored for our simplest ima"
   ]
  },
  {
   "cell_type": "code",
   "execution_count": 3,
   "metadata": {},
   "outputs": [
    {
     "name": "stdout",
     "output_type": "stream",
     "text": [
      "Metadata:\n",
      "- Image width: 1998 pixels\n",
      "- Image height: 3024 pixels\n",
      "- Bits/pixel: 24\n",
      "- Compression: True-color uncompressed\n",
      "- MIME type: image/targa\n",
      "- Endianness: Little endian\n"
     ]
    }
   ],
   "source": [
    "print(view_img_metadata(\"./data/daughter.tga\"))\n"
   ]
  },
  {
   "cell_type": "markdown",
   "metadata": {
    "solution": "hidden",
    "solution_first": true
   },
   "source": [
    "### Are there any elements that surprised you?\n",
    "\n",
    "* Type your first answer here\n",
    "* Type your second answer here\n",
    "* ... and so on\n",
    "* MIME type\n",
    "* Endianness"
   ]
  },
  {
   "cell_type": "markdown",
   "metadata": {
    "solution": "hidden"
   },
   "source": [
    "## Here are some elements that stood out to me\n",
    "\n",
    "* [Endianness](https://en.wikipedia.org/wiki/Endianness) is a detailed concept that I'm guessing many of you haven't been exposed to before.\n",
    "* [MIME type](https://en.wikipedia.org/wiki/Media_type) is information used in transmitting binary data across the internet\n",
    "* 24 bits per pixel: this is 8 bits per red, green, and blue channel that are used to represent color\n",
    "* compression: this file format does not used data compression"
   ]
  },
  {
   "cell_type": "markdown",
   "metadata": {
    "solution": "hidden"
   },
   "source": [
    "### Now let's look at a the TIFF representation"
   ]
  },
  {
   "cell_type": "code",
   "execution_count": 4,
   "metadata": {},
   "outputs": [
    {
     "name": "stdout",
     "output_type": "stream",
     "text": [
      "Metadata:\n",
      "- Image width: 1998 pixels\n",
      "- Image height: 3024 pixels\n",
      "- Bits/pixel: 24\n",
      "- Image DPI width: 72 DPI\n",
      "- Image DPI height: 72 DPI\n",
      "- MIME type: image/tiff\n",
      "- Endianness: Little endian\n"
     ]
    }
   ],
   "source": [
    "print(view_img_metadata(\"./data/daughter.tiff\"))"
   ]
  },
  {
   "cell_type": "markdown",
   "metadata": {
    "solution": "shown",
    "solution_first": true
   },
   "source": [
    "### Any notable differences between TIFF and TGA?\n",
    "\n",
    "* DPI width and height"
   ]
  },
  {
   "cell_type": "markdown",
   "metadata": {
    "solution": "shown"
   },
   "source": [
    "### This is what I noticed\n",
    "\n",
    "* There is now a DPI (\"dots per inch\") concept. TIFF was developed by Adobe which was focused on printing graphics."
   ]
  },
  {
   "cell_type": "markdown",
   "metadata": {},
   "source": [
    "## Now let's look at PNG"
   ]
  },
  {
   "cell_type": "code",
   "execution_count": 5,
   "metadata": {},
   "outputs": [
    {
     "name": "stdout",
     "output_type": "stream",
     "text": [
      "Metadata:\n",
      "- Image width: 1998 pixels\n",
      "- Image height: 3024 pixels\n",
      "- Bits/pixel: 24\n",
      "- Pixel format: RGB\n",
      "- Compression rate: 3.8x\n",
      "- Image DPI width: 2834 DPI\n",
      "- Image DPI height: 2834 DPI\n",
      "- Compression: deflate\n",
      "- Comment: Raw profile type iptc=\n",
      "iptc\n",
      "      35\n",
      "1c015a00031b25471c0200000200021c0205000f696d675f3037303930355f30333634\n",
      "- Comment: date:create=2020-03-25T23:34:30+00:00\n",
      "- Comment: date:modify=2017-02-06T03:47:30+00:00\n",
      "- Comment: exif:DateTime=2008:12:23 12:50:21\n",
      "- Comment: exif:DateTimeDigitized=2005:07:08 19:51:47\n",
      "- Comment: exif:DateTimeOriginal=2005:07:08 19:51:47\n",
      "- Comment: exif:ExifOffset=200\n",
      "- Comment: exif:ExifVersion=48, 50, 50, 48\n",
      "- Comment: exif:ExposureBiasValue=0/1\n",
      "- Comment: exif:ExposureProgram=3\n",
      "- Comment: exif:ExposureTime=1/1250\n",
      "- Comment: exif:Flash=0\n",
      "- Comment: exif:FNumber=9/5\n",
      "- Comment: exif:FocalLength=85/1\n",
      "- Comment: exif:LightSource=9\n",
      "- Comment: exif:Make=NIKON CORPORATION\n",
      "- Comment: exif:MaxApertureValue=8/5\n",
      "- Comment: exif:MeteringMode=3\n",
      "- Comment: exif:Model=NIKON D70\n",
      "- Comment: exif:PhotographicSensitivity=200\n",
      "- Comment: exif:PixelXDimension=1998\n",
      "- Comment: exif:PixelYDimension=3024\n",
      "- Comment: exif:SensingMethod=2\n",
      "- Comment: exif:Software=QuickTime 7.5\n",
      "- Comment: icc:copyright=Copyright 2000 Adobe Systems Incorporated\n",
      "- Comment: icc:description=Adobe RGB (1998)\n",
      "- Comment: photoshop:DateCreated=2005-07-08T19:51:47\n",
      "- Comment: xmp:CreateDate=2005-07-08T19:51:47\n",
      "- Comment: xmp:CreatorTool=QuickTime 7.5\n",
      "- Comment: xmp:ModifyDate=2008-12-23T12:50:21\n",
      "- MIME type: image/png\n",
      "- Endianness: Big endian\n"
     ]
    }
   ],
   "source": [
    "print(view_img_metadata(\"./data/daughter.png\"))\n"
   ]
  },
  {
   "cell_type": "markdown",
   "metadata": {},
   "source": [
    "### That is a lot more information!\n",
    "\n",
    "* Now we have lots of information about how the photograph was created\n",
    "    * Camera make and model\n",
    "    * Camera settings (e.g. PhotographicSensitivity=200)\n",
    "    * Note that there are values that obviously need interpretation\n",
    "        * What in the world does `MeteringMode=3` mean? or `LightSource=9`?\n",
    "* Notice that there is some sense of file history:\n",
    "    * DateTimeOriginal=2005:07:08 19:51:47\n",
    "    * DateTime=2008:12:23 12:50:21\n",
    "    * modify=2017-02-06T03:47:30+00:00\n",
    "    * create=2020-03-25T23:34:30+00:00\n",
    "* Endianness has changed!\n",
    "* There is now explicit information about how color is represented: `Pixel format: RGB`. \n",
    "    * Did TGA and TIFF only have one choice\n"
   ]
  },
  {
   "cell_type": "markdown",
   "metadata": {},
   "source": [
    "### Now let's look at the original JPEG image"
   ]
  },
  {
   "cell_type": "code",
   "execution_count": 6,
   "metadata": {},
   "outputs": [
    {
     "name": "stderr",
     "output_type": "stream",
     "text": [
      "[warn] Skip IPTC key 5: img_070905_0364\n"
     ]
    },
    {
     "name": "stdout",
     "output_type": "stream",
     "text": [
      "Metadata:\n",
      "- Image width: 1998 pixels\n",
      "- Image height: 3024 pixels\n",
      "- Image orientation: Horizontal (normal)\n",
      "- Bits/pixel: 24\n",
      "- Pixel format: YCbCr\n",
      "- Image DPI width: 72 DPI\n",
      "- Image DPI height: 72 DPI\n",
      "- Creation date: 2008-12-23 12:50:21\n",
      "- Camera aperture: 1.6\n",
      "- Camera focal: 1.8\n",
      "- Camera exposure: 1/1250\n",
      "- City: \u001b%G\n",
      "- Camera model: NIKON D70\n",
      "- Camera manufacturer: NIKON CORPORATION\n",
      "- Compression: JPEG (Baseline)\n",
      "- ISO speed rating: 200\n",
      "- EXIF version: 0220\n",
      "- Date-time original: 2005-07-08 19:51:47\n",
      "- Date-time digitized: 2005-07-08 19:51:47\n",
      "- Exposure bias: 0\n",
      "- Focal length: 85\n",
      "- Producer: QuickTime 7.5\n",
      "- Comment: JPEG quality: 100%\n",
      "- Format version: JFIF 1.01\n",
      "- MIME type: image/jpeg\n",
      "- Endianness: Big endian\n"
     ]
    }
   ],
   "source": [
    "print(view_img_metadata(\"./data/daughter.jpg\"))"
   ]
  },
  {
   "cell_type": "markdown",
   "metadata": {
    "solution": "shown",
    "solution_first": true
   },
   "source": [
    "### Any significant changes?\n",
    "\n",
    "* ???"
   ]
  },
  {
   "cell_type": "markdown",
   "metadata": {
    "solution": "shown"
   },
   "source": [
    "### Here's what I noticed\n",
    "\n",
    "* Pixel format has changed from RGB to  YCbCr\n",
    "* DPI matches TIFF rather than PNG"
   ]
  },
  {
   "cell_type": "markdown",
   "metadata": {},
   "source": [
    "### What are the respective file sizes?"
   ]
  },
  {
   "cell_type": "code",
   "execution_count": 7,
   "metadata": {},
   "outputs": [
    {
     "name": "stdout",
     "output_type": "stream",
     "text": [
      "-rw------- 1 jovyan users  2590191 Feb  6  2017 data/daughter.jpg\r\n",
      "-rw-r--r-- 1 jovyan users 18125874 Mar 25 08:14 data/daughter.tga\r\n",
      "-rw-r--r-- 1 jovyan users 18127819 Mar 25 08:16 data/daughter.tiff\r\n",
      "-rw-r--r-- 1 jovyan users  4833716 Mar 26 00:05 data/daughter.png\r\n"
     ]
    }
   ],
   "source": [
    "!ls -ltra data/daughter.*"
   ]
  },
  {
   "cell_type": "markdown",
   "metadata": {},
   "source": [
    "The TIFF and TGA images are uncompressed, so they only differ by the size of the header (metadata). PNG uses a **lossless** compression, so is substantially smaller than the TIF/TGA but larger than the JPEG image which uses **lossy** compression."
   ]
  },
  {
   "cell_type": "markdown",
   "metadata": {},
   "source": [
    "### Here is a newer image\n",
    "\n",
    "<img src=\"./data/skiing.jpg\" alt=\"skiing with daughter\" width=\"128\" height=\"171\">"
   ]
  },
  {
   "cell_type": "code",
   "execution_count": 8,
   "metadata": {},
   "outputs": [
    {
     "name": "stderr",
     "output_type": "stream",
     "text": [
      "[warn] [/exif/content/ifd[0]] [Autofix] Fix parser error: stop parser, found unparsed segment: start 1432, length 8, found unparsed segment: start 1624, length 8\n",
      "[warn] [/exif/content/exif[0]] [Autofix] Fix parser error: stop parser, found unparsed segment: start 12712, length 8\n",
      "[warn] [/exif/content/exif_gps[0]] [Autofix] Fix parser error: stop parser, found unparsed segment: start 15800, length 8\n",
      "[warn] Skip IPTC key 63: 153727\n",
      "[warn] Skip IPTC key 62: 20170316\n"
     ]
    },
    {
     "name": "stdout",
     "output_type": "stream",
     "text": [
      "Metadata:\n",
      "- Image width: 2448 pixels\n",
      "- Image height: 3264 pixels\n",
      "- Image orientation: Horizontal (normal)\n",
      "- Bits/pixel: 24\n",
      "- Pixel format: YCbCr\n",
      "- Creation date: 2017-03-16 15:37:27\n",
      "- Creation date: 2017-03-16 21:37:27\n",
      "- Latitude: 40.58003333333333\n",
      "- Longitude: -111.61911666666667\n",
      "- Altitude: 2866.9 meters\n",
      "- Camera focal: 2.2\n",
      "- Camera exposure: 1/13333\n",
      "- Camera brightness: 12.5\n",
      "- City: \u001b%G\n",
      "- Camera model: iPhone 6\n",
      "- Camera manufacturer: Apple\n",
      "- Compression: JPEG (Baseline)\n",
      "- ISO speed rating: 32\n",
      "- EXIF version: 0221\n",
      "- Date-time original: 2017-03-16 15:37:27\n",
      "- Date-time digitized: 2017-03-16 15:37:27\n",
      "- Shutter speed: 13.7\n",
      "- Aperture: 2.28\n",
      "- Exposure bias: 0\n",
      "- Focal length: 4.15\n",
      "- Flashpix version: 0100\n",
      "- Focal length in 35mm film: 29\n",
      "- Producer: 10.2.1\n",
      "- Comment: JPEG quality: 100%\n",
      "- Format version: JFIF 1.01\n",
      "- MIME type: image/jpeg\n",
      "- Endianness: Big endian\n"
     ]
    }
   ],
   "source": [
    "print(view_img_metadata(\"./data/skiing.jpg\"))"
   ]
  },
  {
   "cell_type": "markdown",
   "metadata": {
    "solution": "shown",
    "solution_first": true
   },
   "source": [
    "### Notice anything new?\n",
    "\n",
    "* ???"
   ]
  },
  {
   "cell_type": "markdown",
   "metadata": {
    "solution": "shown"
   },
   "source": [
    "### What did I notice?\n",
    "\n",
    "* Obviously difference in the camera make and model and setting\n",
    "* But now we have geo location data\n",
    "    - `Latitude: 40.58003333333333`\n",
    "    - `Longitude: -111.61911666666667`\n",
    "    - `Altitude: 2866.9 meters`\n",
    "* That wasn't available in 2007! So the standards need a way of expanding/growing gracefully as technology evolves.\n",
    "    * This will be important when we move on to DICOM and medical imaging standards."
   ]
  },
  {
   "cell_type": "markdown",
   "metadata": {},
   "source": [
    "## Exercise\n",
    "\n",
    "Now let's try to reverse engineer an image standard.\n",
    "\n",
    "You have been given 3 \"images\" in a proprietary format and software to render the images. You are are trying to reverse engineer the standard being used to represent the images. \n",
    "\n",
    "You can \"peek\" at the raw data in the file on the computer system and see that the files are the following list of numbers for each image respectively:\n",
    "\n",
    "\\begin{eqnarray}\n",
    "1, 5, 2, 10 , 5 , 3 , 7 , -6 , 4 , 2 , 0 , 21 , 11 , -2 , 17\\\\\n",
    "2 , 3 , 2 , 1 , 0 , 5 , -1 , 17 , 11 , -5 , 6 \\\\\n",
    "2, 2, 3, 2, 3, 2, 1, 1, 2, 3, 5, 8, 13, 21, 34, 55, 89, 144\n",
    "\\end{eqnarray}.\n",
    "\n",
    "When the \"images\" are \"rendered\" to the screen, this is what you see:\n",
    "\n",
    "\\begin{equation}\n",
    "\\begin{array}{ccccc}\n",
    "(-7,2) & (-16, -1)  & (-8,-5) & (11,1) & (-12,12)\n",
    "\\end{array}\n",
    "\\end{equation}\n",
    "\n",
    "---------------------\n",
    "\n",
    "\\begin{equation}\n",
    "\\begin{array}{cc}\n",
    "5 & -1 \\\\\n",
    "17 & 11\\\\\n",
    "-5 & 6\n",
    "\\end{array}\n",
    "\\end{equation}\n",
    "\n",
    "------------------\n",
    "\\begin{equation}\n",
    "\\begin{array}{ccc}\n",
    "(-2,-1) & (-1, 1)  & (2, 6) \\\\\n",
    "(10, 19) & (31, 53) & (86,142)\n",
    "\\end{array}\n",
    "\\end{equation}.\n",
    "\n",
    "------------------\n",
    "\n",
    "The you know the image data consists of a **header**  followed by **values,** but you don't know where the **header** ends and the **values** begin. The values make up the elements (e.g. pixel--\"picture element\") of the picture. The header describes the structure and nature of the values. Based on your analysis, answer the following questions about the header and values\n",
    "\n",
    "\n",
    "* The standard has a fixed header size (that is, the header size is the same regardless of the nature of the values) (T/F) (F)\n",
    "\n",
    "* The values are stored by rows. T\n",
    "* Image values can be multidimensional. T\n",
    "* The rendered values are modified by multiplying baseline value(s) defined in the header. F. They are subtracted.\n",
    "\n"
   ]
  },
  {
   "cell_type": "code",
   "execution_count": 9,
   "metadata": {},
   "outputs": [
    {
     "data": {
      "application/vnd.jupyter.widget-view+json": {
       "model_id": "fa83f7a63b5d46149de12e7f92648747",
       "version_major": 2,
       "version_minor": 0
      },
      "text/plain": [
       "VBox(children=(Output(outputs=({'output_type': 'stream', 'text': 'The standard has a fixed header size. That i…"
      ]
     },
     "metadata": {},
     "output_type": "display_data"
    },
    {
     "data": {
      "application/vnd.jupyter.widget-view+json": {
       "model_id": "b79c895e8bc44c48bb437890948dc320",
       "version_major": 2,
       "version_minor": 0
      },
      "text/plain": [
       "VBox(children=(Output(outputs=({'output_type': 'stream', 'text': 'The values are stored by rows.\\n', 'name': '…"
      ]
     },
     "metadata": {},
     "output_type": "display_data"
    },
    {
     "data": {
      "application/vnd.jupyter.widget-view+json": {
       "model_id": "13e50b58a7fd4c50bb4a90f87b95b5e2",
       "version_major": 2,
       "version_minor": 0
      },
      "text/plain": [
       "VBox(children=(Output(outputs=({'output_type': 'stream', 'text': 'Pixels/voxels can have multiple values.\\n', …"
      ]
     },
     "metadata": {},
     "output_type": "display_data"
    },
    {
     "data": {
      "application/vnd.jupyter.widget-view+json": {
       "model_id": "27cccdccc73d4d00be7262f496dfcd92",
       "version_major": 2,
       "version_minor": 0
      },
      "text/plain": [
       "VBox(children=(Output(outputs=({'output_type': 'stream', 'text': 'The rendered values are modified by multiply…"
      ]
     },
     "metadata": {},
     "output_type": "display_data"
    }
   ],
   "source": [
    "for q in nb1_questions:\n",
    "    display(nb1_questions[q])"
   ]
  },
  {
   "cell_type": "markdown",
   "metadata": {},
   "source": [
    "### [Move onto the next notebook](./dicom_intro.ipynb)"
   ]
  }
 ],
 "metadata": {
  "kernelspec": {
   "display_name": "Python 3",
   "language": "python",
   "name": "python3"
  },
  "language_info": {
   "codemirror_mode": {
    "name": "ipython",
    "version": 3
   },
   "file_extension": ".py",
   "mimetype": "text/x-python",
   "name": "python",
   "nbconvert_exporter": "python",
   "pygments_lexer": "ipython3",
   "version": "3.7.6"
  }
 },
 "nbformat": 4,
 "nbformat_minor": 4
}
