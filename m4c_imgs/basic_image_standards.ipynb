{
 "cells": [
  {
   "cell_type": "markdown",
   "metadata": {},
   "source": [
    "# Basic Image Standards\n",
    "\n",
    "In this notebooks we are going to explore some of the different standards that are used to store photographs and similar images. Specifically, we will explore the following standards\n",
    "\n",
    "* [TGA](https://en.wikipedia.org/wiki/Truevision_TGA)\n",
    "* [PNG](https://www.w3.org/TR/2003/REC-PNG-20031110/)\n",
    "* [TIFF](https://www.adobe.io/open/standards/TIFF.html)\n",
    "* [JPEG](https://jpeg.org/jpeg/)"
   ]
  },
  {
   "cell_type": "code",
   "execution_count": null,
   "metadata": {},
   "outputs": [],
   "source": [
    "!python -m pip install -U git+https://github.com/chapmanbe/dminteract#egg=dminteract"
   ]
  },
  {
   "cell_type": "code",
   "execution_count": null,
   "metadata": {},
   "outputs": [],
   "source": [
    "from dminteract.modules.m4c import *\n",
    "import warnings\n",
    "warnings.filterwarnings('ignore')"
   ]
  },
  {
   "cell_type": "markdown",
   "metadata": {},
   "source": [
    "We are going to start with a sample photograph of my daughter (used with her permission!).\n",
    "\n",
    "<img src=\"./data/daughter.jpg\" alt=\"daughter with basketball\" width=\"128\" height=\"192\">"
   ]
  },
  {
   "cell_type": "code",
   "execution_count": null,
   "metadata": {
    "solution2": "hidden"
   },
   "outputs": [],
   "source": [
    "display(question_banks[\"qbank1\"][\"photo1, qbank1\"])"
   ]
  },
  {
   "cell_type": "markdown",
   "metadata": {
    "solution2": "hidden"
   },
   "source": [
    "### Once you have typed your thoughts about the metadata...\n",
    "\n",
    "Let's look at the metadata that is stored for our simplest ima"
   ]
  },
  {
   "cell_type": "code",
   "execution_count": null,
   "metadata": {},
   "outputs": [],
   "source": [
    "print(view_img_metadata(\"./data/daughter.tga\"))\n"
   ]
  },
  {
   "cell_type": "code",
   "execution_count": null,
   "metadata": {},
   "outputs": [],
   "source": [
    "display(question_banks[\"qbank1\"][\"photo2, qbank1\"])"
   ]
  },
  {
   "cell_type": "markdown",
   "metadata": {},
   "source": [
    "### Now let's look at a the TIFF representation"
   ]
  },
  {
   "cell_type": "code",
   "execution_count": null,
   "metadata": {},
   "outputs": [],
   "source": [
    "print(view_img_metadata(\"./data/daughter.tiff\"))"
   ]
  },
  {
   "cell_type": "code",
   "execution_count": null,
   "metadata": {},
   "outputs": [],
   "source": [
    "display(question_banks[\"qbank1\"][\"photo3, qbank1\"])"
   ]
  },
  {
   "cell_type": "markdown",
   "metadata": {},
   "source": [
    "## Now let's look at PNG"
   ]
  },
  {
   "cell_type": "code",
   "execution_count": null,
   "metadata": {},
   "outputs": [],
   "source": [
    "print(view_img_metadata(\"./data/daughter.png\"))\n"
   ]
  },
  {
   "cell_type": "markdown",
   "metadata": {},
   "source": [
    "### That is a lot more information!\n",
    "\n",
    "* Now we have lots of information about how the photograph was created\n",
    "    * Camera make and model\n",
    "    * Camera settings (e.g. PhotographicSensitivity=200)\n",
    "    * Note that there are values that obviously need interpretation\n",
    "        * What in the world does `MeteringMode=3` mean? or `LightSource=9`?\n",
    "* Notice that there is some sense of file history:\n",
    "    * DateTimeOriginal=2005:07:08 19:51:47\n",
    "    * DateTime=2008:12:23 12:50:21\n",
    "    * modify=2017-02-06T03:47:30+00:00\n",
    "    * create=2020-03-25T23:34:30+00:00\n",
    "* Endianness has changed!\n",
    "* There is now explicit information about how color is represented: `Pixel format: RGB`. \n",
    "    * Did TGA and TIFF only have one choice\n"
   ]
  },
  {
   "cell_type": "markdown",
   "metadata": {},
   "source": [
    "### Now let's look at the original JPEG image"
   ]
  },
  {
   "cell_type": "code",
   "execution_count": null,
   "metadata": {},
   "outputs": [],
   "source": [
    "print(view_img_metadata(\"./data/daughter.jpg\"))"
   ]
  },
  {
   "cell_type": "code",
   "execution_count": null,
   "metadata": {},
   "outputs": [],
   "source": [
    "display(question_banks[\"qbank1\"][\"photo4, qbank1\"])"
   ]
  },
  {
   "cell_type": "markdown",
   "metadata": {},
   "source": [
    "### What are the respective file sizes?"
   ]
  },
  {
   "cell_type": "code",
   "execution_count": null,
   "metadata": {},
   "outputs": [],
   "source": [
    "!ls -ltra data/daughter.*"
   ]
  },
  {
   "cell_type": "markdown",
   "metadata": {},
   "source": [
    "The TIFF and TGA images are uncompressed, so they only differ by the size of the header (metadata). PNG uses a **lossless** compression, so is substantially smaller than the TIF/TGA but larger than the JPEG image which uses **lossy** compression."
   ]
  },
  {
   "cell_type": "markdown",
   "metadata": {},
   "source": [
    "### Here is a newer image\n",
    "\n",
    "<img src=\"./data/skiing.jpg\" alt=\"skiing with daughter\" width=\"128\" height=\"171\">"
   ]
  },
  {
   "cell_type": "code",
   "execution_count": null,
   "metadata": {},
   "outputs": [],
   "source": [
    "print(view_img_metadata(\"./data/skiing.jpg\"))"
   ]
  },
  {
   "cell_type": "code",
   "execution_count": null,
   "metadata": {},
   "outputs": [],
   "source": [
    "display(question_banks[\"qbank1\"][\"photo5, qbank1\"])"
   ]
  },
  {
   "cell_type": "markdown",
   "metadata": {},
   "source": [
    "## Exercise\n",
    "\n",
    "Now let's try to reverse engineer an image standard.\n",
    "\n",
    "You have been given 3 \"images\" in a proprietary format and software to render the images. You are are trying to reverse engineer the standard being used to represent the images. \n",
    "\n",
    "You can \"peek\" at the raw data in the file on the computer system and see that the files are the following list of numbers for each image respectively:\n",
    "\n",
    "\\begin{eqnarray}\n",
    "1, 5, 2, 10 , 5 , 3 , 7 , -6 , 4 , 2 , 0 , 21 , 11 , -2 , 17\\\\\n",
    "2 , 3 , 2 , 1 , 0 , 5 , -1 , 17 , 11 , -5 , 6 \\\\\n",
    "2, 2, 3, 2, 3, 2, 1, 1, 2, 3, 5, 8, 13, 21, 34, 55, 89, 144\n",
    "\\end{eqnarray}.\n",
    "\n",
    "When the \"images\" are \"rendered\" to the screen, this is what you see:\n",
    "\n",
    "\\begin{equation}\n",
    "\\begin{array}{ccccc}\n",
    "(-7,2) & (-16, -1)  & (-8,-5) & (11,1) & (-12,12)\n",
    "\\end{array}\n",
    "\\end{equation}\n",
    "\n",
    "---------------------\n",
    "\n",
    "\\begin{equation}\n",
    "\\begin{array}{cc}\n",
    "5 & -1 \\\\\n",
    "17 & 11\\\\\n",
    "-5 & 6\n",
    "\\end{array}\n",
    "\\end{equation}\n",
    "\n",
    "------------------\n",
    "\\begin{equation}\n",
    "\\begin{array}{ccc}\n",
    "(-2,-1) & (-1, 1)  & (2, 6) \\\\\n",
    "(10, 19) & (31, 53) & (86,142)\n",
    "\\end{array}\n",
    "\\end{equation}.\n",
    "\n",
    "------------------\n",
    "\n",
    "The you know the image data consists of a **header**  followed by **values,** but you don't know where the **header** ends and the **values** begin. The values make up the elements (e.g. pixel--\"picture element\") of the picture. The header describes the structure and nature of the values. Based on your analysis, answer the following questions about the header and values\n",
    "\n",
    "\n",
    "* The standard has a fixed header size (that is, the header size is the same regardless of the nature of the values) (T/F) (F)\n",
    "\n",
    "* The values are stored by rows. T\n",
    "* Image values can be multidimensional. T\n",
    "* The rendered values are modified by multiplying baseline value(s) defined in the header. F. They are subtracted.\n",
    "\n"
   ]
  },
  {
   "cell_type": "code",
   "execution_count": null,
   "metadata": {},
   "outputs": [],
   "source": [
    "for q in question_banks[\"qbank2\"].values():\n",
    "    display(q)"
   ]
  },
  {
   "cell_type": "markdown",
   "metadata": {},
   "source": [
    "### [Move onto the next notebook](./dicom_intro.ipynb)"
   ]
  }
 ],
 "metadata": {
  "kernelspec": {
   "display_name": "Python 3",
   "language": "python",
   "name": "python3"
  },
  "language_info": {
   "codemirror_mode": {
    "name": "ipython",
    "version": 3
   },
   "file_extension": ".py",
   "mimetype": "text/x-python",
   "name": "python",
   "nbconvert_exporter": "python",
   "pygments_lexer": "ipython3",
   "version": "3.7.6"
  }
 },
 "nbformat": 4,
 "nbformat_minor": 4
}
