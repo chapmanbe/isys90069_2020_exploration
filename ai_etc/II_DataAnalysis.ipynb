{
 "cells": [
  {
   "cell_type": "code",
   "execution_count": null,
   "metadata": {},
   "outputs": [],
   "source": [
    "import pandas as pd\n",
    "import matplotlib.pyplot as plt\n",
    "%matplotlib inline"
   ]
  },
  {
   "cell_type": "code",
   "execution_count": null,
   "metadata": {},
   "outputs": [],
   "source": [
    "from sklearn.feature_selection import SelectKBest, chi2"
   ]
  },
  {
   "cell_type": "markdown",
   "metadata": {},
   "source": [
    "# II. Data Analysis\n",
    "Once we have our data, one of the first and most important steps is to understand what the data is like. This is especially important if you're collecting your own data and have to determine what data is useful."
   ]
  },
  {
   "cell_type": "code",
   "execution_count": null,
   "metadata": {},
   "outputs": [],
   "source": [
    "df = pd.read_csv('diabetes.csv')"
   ]
  },
  {
   "cell_type": "code",
   "execution_count": null,
   "metadata": {},
   "outputs": [],
   "source": [
    "df.head()"
   ]
  },
  {
   "cell_type": "markdown",
   "metadata": {},
   "source": [
    "Calling `df.describe()` shows a summary of information about each column in our table. We can then visualize each column using a histogram and boxplot.\n",
    "\n",
    "## Questions to discuss\n",
    "- Do the distributions of the features look [normal](https://en.wikipedia.org/wiki/Normal_distribution)? If not, how are they skewed?\n",
    "- Do you think this could present a problem for the machine learning techniques?\n",
    "- Look at the maximum and minimum values for each feature. Find those values on the box plots and histograms. Do they look right to you? Do you see anything we should be concerned about? If so, what would you do to fix those issues?"
   ]
  },
  {
   "cell_type": "code",
   "execution_count": null,
   "metadata": {},
   "outputs": [],
   "source": [
    "df.describe()"
   ]
  },
  {
   "cell_type": "code",
   "execution_count": null,
   "metadata": {},
   "outputs": [],
   "source": [
    "_ = df.hist(figsize=(10,8), grid=False)"
   ]
  },
  {
   "cell_type": "code",
   "execution_count": null,
   "metadata": {},
   "outputs": [],
   "source": [
    "# How many people had a skin thickness of 0?\n",
    "print(df.SkinThickness.min())\n",
    "print(df.SkinThickness.value_counts()[0])"
   ]
  },
  {
   "cell_type": "code",
   "execution_count": null,
   "metadata": {},
   "outputs": [],
   "source": [
    "# How many people had 17 pregnancies?\n",
    "print(df.Pregnancies.max())\n",
    "print(df.Pregnancies.value_counts()[17])"
   ]
  },
  {
   "cell_type": "code",
   "execution_count": null,
   "metadata": {},
   "outputs": [],
   "source": [
    "_ = df.plot(kind= 'box' , subplots=True, layout=(3,3), sharex=False, sharey=False, figsize=(10,8), sort_columns=True)"
   ]
  },
  {
   "cell_type": "markdown",
   "metadata": {},
   "source": [
    "# Which features are the most useful?\n",
    "Our machine learning classifier is going to use these features to predict whether or not a patient has diabetes. As the desginers of the classifier, we need to have a general idea of how the classifier works. One way to do this is to look at the **usefulness** of each feature and decide whether this makes sense from a clinical perspective.\n",
    "\n",
    "We'll use a [Chi-Squared Test](https://en.wikipedia.org/wiki/Chi-squared_test) to see which features are most strongly associated with one class or another (positive or negative).\n",
    "\n",
    "First, we'll separate our dataset into two separate parts:\n",
    "- **X** - these are the features that we'll use to look for patterns. These are also called *independent variables*\n",
    "\n",
    "- **y** - these are the labels that tell us whether or not a patient has diabetes. This is also called the *dependent variable*"
   ]
  },
  {
   "cell_type": "code",
   "execution_count": null,
   "metadata": {},
   "outputs": [],
   "source": [
    "def prepare_dataset(df):\n",
    "    \"\"\"\n",
    "    Separates the dataset into X and y\n",
    "    \"\"\"\n",
    "    X = df.loc[:, df.columns != 'Outcome']\n",
    "    y = df.Outcome\n",
    "    return X, y"
   ]
  },
  {
   "cell_type": "code",
   "execution_count": null,
   "metadata": {},
   "outputs": [],
   "source": [
    "X, y = prepare_dataset(df)"
   ]
  },
  {
   "cell_type": "code",
   "execution_count": null,
   "metadata": {},
   "outputs": [],
   "source": [
    "X.head()"
   ]
  },
  {
   "cell_type": "code",
   "execution_count": null,
   "metadata": {},
   "outputs": [],
   "source": [
    "y.head()"
   ]
  },
  {
   "cell_type": "code",
   "execution_count": null,
   "metadata": {},
   "outputs": [],
   "source": [
    "# Run the test on our data\n",
    "chi2_scores, p_values = chi2(X, y)"
   ]
  },
  {
   "cell_type": "code",
   "execution_count": null,
   "metadata": {},
   "outputs": [],
   "source": [
    "feature_names = X.columns"
   ]
  },
  {
   "cell_type": "code",
   "execution_count": null,
   "metadata": {},
   "outputs": [],
   "source": [
    "for (feat_name, score) in zip(feature_names, chi2_scores):\n",
    "    print(feat_name, score)"
   ]
  },
  {
   "cell_type": "markdown",
   "metadata": {},
   "source": [
    "Now we'll sort our features by the results of our chi2 test and then visualize them to compare how useful each feature is. A higher chi2 score means that a feature is more predictive."
   ]
  },
  {
   "cell_type": "code",
   "execution_count": null,
   "metadata": {},
   "outputs": [],
   "source": [
    "sorted_feature_name_scores = sorted(zip(feature_names, chi2_scores), key=lambda x:x[1], reverse=True)"
   ]
  },
  {
   "cell_type": "code",
   "execution_count": null,
   "metadata": {},
   "outputs": [],
   "source": [
    "fig, ax = plt.subplots()\n",
    "feat_names, feat_scores = zip(*sorted_feature_name_scores)\n",
    "n = len(feat_names)\n",
    "x_plot = range(n)\n",
    "ax.bar(x_plot, feat_scores)\n",
    "\n",
    "ax.set_xticks(x_plot)\n",
    "_ = ax.set_xticklabels(feat_names, rotation='45')"
   ]
  },
  {
   "cell_type": "markdown",
   "metadata": {},
   "source": [
    "## Questions to discuss\n",
    "- What is this chart showing us?\n",
    "\n",
    "- Does this make sense clinically?\n",
    "\n",
    "- For those that are not predictive, why do you think that is?"
   ]
  },
  {
   "cell_type": "markdown",
   "metadata": {},
   "source": [
    "# Up Next\n",
    "Now that we understand what our dataset looks like and have a better understanding of our task, we can clean up our data, train the machine learning algorithms, and evaluate their performance.\n",
    "\n",
    "[III. Machine Learning Classification](III_MachineLearningClassification.ipynb)"
   ]
  }
 ],
 "metadata": {
  "kernelspec": {
   "display_name": "Python 3",
   "language": "python",
   "name": "python3"
  },
  "language_info": {
   "codemirror_mode": {
    "name": "ipython",
    "version": 3
   },
   "file_extension": ".py",
   "mimetype": "text/x-python",
   "name": "python",
   "nbconvert_exporter": "python",
   "pygments_lexer": "ipython3",
   "version": "3.7.4"
  }
 },
 "nbformat": 4,
 "nbformat_minor": 4
}
