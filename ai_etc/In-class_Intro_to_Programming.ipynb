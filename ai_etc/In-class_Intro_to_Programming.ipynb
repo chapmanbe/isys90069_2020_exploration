{
 "cells": [
  {
   "cell_type": "markdown",
   "metadata": {},
   "source": [
    "# Welcome to your first Jupyter notebook!"
   ]
  },
  {
   "cell_type": "markdown",
   "metadata": {},
   "source": [
    "## In a Jupyter notebook, you will run each cell, and the instructions in the cell will be carried out.\n",
    "* to run a cell, when you are in the cell, hit the run button on the menu or hit Shift-Return\n",
    "\n",
    "The main cell types you will see are markdown cells (like this one and the previous one) and code cells. \n",
    "Markdown cells contain text and/or images, slides, videos when you run the cell, the instructions in the cell are carried out\n",
    "* instructions in markdown cells include heading types, opening an embedded video, etc. \n",
    "* Try running this cell, and you will see that \"##\" in the top line is an instruction that the text in that line should be displayed as Heading 2\n",
    "\n",
    "Code cells contain computer code. You can write more code, make changes and deletions, and run the code in the cell\n",
    "* when you run the code in the cell, the instructions in the code are carried out, and the results are shown below the cell"
   ]
  },
  {
   "cell_type": "markdown",
   "metadata": {},
   "source": [
    "## Let's create your first code cell - we are using Python to write code \n",
    "* look in the upper right corner of this document, and you will see tht this is a Python 3 notebook\n",
    "* In the cell below, you are going to use Python to give the computer instructions to print the phrase \"Hello world\" to the screen"
   ]
  },
  {
   "cell_type": "code",
   "execution_count": null,
   "metadata": {},
   "outputs": [],
   "source": [
    "# this is a comment in Python\n",
    "# print \"Hello world\"\n",
    "print(\"Hello world\")"
   ]
  },
  {
   "cell_type": "markdown",
   "metadata": {},
   "source": [
    "## Do you see the output of your code under the cell? \n",
    "This is a powerful way to write and run code and to explore data, because we can explore data, run code, see the output, experiment with the data and code, and make changes if needed\n"
   ]
  },
  {
   "cell_type": "markdown",
   "metadata": {},
   "source": [
    "## Your turn to create a new cell\n",
    "1. Click in this cell\n",
    "2. Under the file menu item, select the \"+\" icon to add a new cell. The default cell type is code, so change it to markdown by selecting the button below Widgets and assigning the type Markdown\n",
    "3. Create a heading for your cell to say what the purpose of the cell is: Let's title it \"Add two numbers\"\n",
    "4. Create a code cell below your markdown cell\n",
    "5. In the code cell type the following Python code: 5 + 3 \n",
    "6. Run the cell and make sure the output is 8\n",
    "7. Experiment by changing the numbers, trying a subtraction problem, changing it to a division problem, trying a multiplication problem"
   ]
  },
  {
   "cell_type": "markdown",
   "metadata": {},
   "source": [
    "### Add two numbers"
   ]
  },
  {
   "cell_type": "code",
   "execution_count": null,
   "metadata": {},
   "outputs": [],
   "source": [
    "6/2"
   ]
  },
  {
   "cell_type": "markdown",
   "metadata": {},
   "source": [
    "## In Python, you can also add words"
   ]
  },
  {
   "cell_type": "code",
   "execution_count": null,
   "metadata": {},
   "outputs": [],
   "source": [
    "sentence = \"Hello\" + \"world\"\n",
    "print(sentence)"
   ]
  },
  {
   "cell_type": "markdown",
   "metadata": {},
   "source": [
    "## This is your first lesson in the fact that computers do exactly what you tell them to - they don't make assumptions or fill in gaps. We forgot to tell it to put a space between the words. let's try again"
   ]
  },
  {
   "cell_type": "code",
   "execution_count": null,
   "metadata": {},
   "outputs": [],
   "source": [
    "sentence = \"Hello\" + \" \" \"world\"\n",
    "print(sentence)"
   ]
  },
  {
   "cell_type": "markdown",
   "metadata": {},
   "source": [
    "## Notebooks are ordered chronologically\n",
    "You defined a variable named 'sentence' in the previous cell, and it remembers it. You can now use \"sentence' later"
   ]
  },
  {
   "cell_type": "code",
   "execution_count": null,
   "metadata": {},
   "outputs": [],
   "source": [
    "# we can ask what Python type 'sentence' is, and you'll see it is a string\n",
    "type(sentence)"
   ]
  },
  {
   "cell_type": "code",
   "execution_count": null,
   "metadata": {},
   "outputs": [],
   "source": [
    "# we can count how many characters 'sentence' contains\n",
    "len(sentence)"
   ]
  },
  {
   "cell_type": "code",
   "execution_count": null,
   "metadata": {},
   "outputs": [],
   "source": [
    "# we can identify particular characters in 'sentence' \n",
    "sentence[1]"
   ]
  },
  {
   "cell_type": "code",
   "execution_count": null,
   "metadata": {},
   "outputs": [],
   "source": [
    "# were you surprised at the 1st character in 'sentence' was \"e\"? That's because in Python, we start counting at 0\n",
    "sentence[0]"
   ]
  },
  {
   "cell_type": "markdown",
   "metadata": {},
   "source": [
    "## If you don't hit Run on a previous cell, the subsequent cells won't work\n",
    "Let's look at what an error looks like. If you learn to program, you will see a lot of errors!"
   ]
  },
  {
   "cell_type": "code",
   "execution_count": null,
   "metadata": {},
   "outputs": [],
   "source": [
    "Sentence[0]"
   ]
  },
  {
   "cell_type": "markdown",
   "metadata": {},
   "source": [
    "## You have not defined 'Sentence' yet, so it tells you that. Note that cases matter in programming"
   ]
  },
  {
   "cell_type": "markdown",
   "metadata": {},
   "source": [
    "## Let's get started with our AI Module - open the next notebook, and we will work through it.\n",
    "By the end of class, you will have read in and explored data, made modifications to the data, build a classifier, and evaluated it against a \"gold standard.\"\n",
    "And because we are using Jupyter notebooks, you won't have to write any code - you will just Run someone else's code\n",
    "But you can see all of the code, so you can changes along the way if you are ambitious"
   ]
  }
 ],
 "metadata": {
  "kernelspec": {
   "display_name": "Python 3",
   "language": "python",
   "name": "python3"
  },
  "language_info": {
   "codemirror_mode": {
    "name": "ipython",
    "version": 3
   },
   "file_extension": ".py",
   "mimetype": "text/x-python",
   "name": "python",
   "nbconvert_exporter": "python",
   "pygments_lexer": "ipython3",
   "version": "3.5.5"
  }
 },
 "nbformat": 4,
 "nbformat_minor": 2
}
