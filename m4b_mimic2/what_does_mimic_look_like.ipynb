{
 "cells": [
  {
   "cell_type": "markdown",
   "metadata": {},
   "source": [
    "# A Quick Look at the MIMIC II Data Set"
   ]
  },
  {
   "cell_type": "code",
   "execution_count": null,
   "metadata": {},
   "outputs": [],
   "source": [
    "### you may need to install jinja2. To do so,\n",
    "# uncomment the line below and run this cell\n",
    "#!pip install jinja2\n"
   ]
  },
  {
   "cell_type": "code",
   "execution_count": null,
   "metadata": {},
   "outputs": [],
   "source": [
    "import warnings\n",
    "warnings.simplefilter(\"ignore\")\n",
    "from mutils import *"
   ]
  },
  {
   "cell_type": "markdown",
   "metadata": {},
   "source": [
    "MIMIC II data are stored in a relational database. This is not an exploration of relational database theory or data modeling, but here is my novice quick description.\n",
    "\n",
    "* Relational databases seek to achieve accurate data representation by eliminating (reducing)  data redundancies and thus the opportunities for data inconsistencies.\n",
    "\n",
    "This is achieved by splitting data across **tables** and then **joining** the data back together when required."
   ]
  },
  {
   "cell_type": "markdown",
   "metadata": {},
   "source": [
    "### First we need to generate a connection to the MIMIC"
   ]
  },
  {
   "cell_type": "code",
   "execution_count": null,
   "metadata": {},
   "outputs": [],
   "source": [
    "conn = get_mimic_connection()"
   ]
  },
  {
   "cell_type": "markdown",
   "metadata": {},
   "source": [
    "## Let's take a look at the tables\n",
    "\n",
    ">Before you can do anything, you have to understand tables. If you don't have a table, you have nothing to work on. The table is the standard unit of information in a relational database. Everything revolves around tables. Tables are composed of rows and columns. And while that sounds simple, the sad truth is that tables are not simple. (*The Definitive Guide to SQLite*, p. 80 [owens2006definitive})\n",
    "\n",
    "\n",
    "Since I said data are split across tables, let's look at the tables in the MIMIC II demo database.\n",
    "\n",
    "### Take a look at the Tables in the Database"
   ]
  },
  {
   "cell_type": "code",
   "execution_count": null,
   "metadata": {},
   "outputs": [],
   "source": [
    "tables = get_tables(conn)\n",
    "HTML(dlist(tables[\"Tables_in_mimic2\"].to_list()))"
   ]
  },
  {
   "cell_type": "markdown",
   "metadata": {},
   "source": [
    "## By my reckoning we have three types of tables\n",
    "\n",
    "* Database-internal table(s) (db_schema)\n",
    "* Tables that start with `a_`\n",
    "* Tables that start with `d_`\n",
    "* Everything else"
   ]
  },
  {
   "cell_type": "markdown",
   "metadata": {},
   "source": [
    "## What are in the tables?\n",
    "### We can use the MySQL command `DESCRIBE` to see th definitions in the table"
   ]
  },
  {
   "cell_type": "code",
   "execution_count": null,
   "metadata": {},
   "outputs": [],
   "source": [
    "table_names = [row[\"Tables_in_mimic2\"] for _,row in tables.iterrows()]"
   ]
  },
  {
   "cell_type": "code",
   "execution_count": null,
   "metadata": {},
   "outputs": [],
   "source": [
    "table_descriptions = get_table_descriptons(conn)\n",
    "\n"
   ]
  },
  {
   "cell_type": "markdown",
   "metadata": {},
   "source": [
    "### Take a look at `d_patients`\n",
    "\n",
    "This is the table that defines the individuals in the rest of the database. Each individual is  characterized by a unique identifer (`subject_id`), their sex described by a single-character, a date of birth, a date of death, and a single-character flag indicating whether the patient died in the hospital. "
   ]
  },
  {
   "cell_type": "code",
   "execution_count": null,
   "metadata": {},
   "outputs": [],
   "source": [
    "display(table_descriptions[\"d_patients\"])\n",
    "\n",
    "view_table(\"d_patients\", 5, conn)"
   ]
  },
  {
   "cell_type": "markdown",
   "metadata": {},
   "source": [
    "### Examine `medevents`\n",
    "\n",
    "For a patient being given medication (medication event), we would want to know things like who was the medicine given to, who gave it to them, what was the medicine, when was it given, etc.\n",
    "\n",
    "Examining the `medevents` table we an see  the nature of a relational database\n",
    "\n",
    "* Instead of the name of the medication, we have `itemid` which refers to a medication defined in another table (in this case `d_meditems`)\n",
    "* Instead of the name of the person administering the medication, we have `cgid` (caregiver id) which refers to someone defined in the table `d_caregivers`."
   ]
  },
  {
   "cell_type": "code",
   "execution_count": null,
   "metadata": {},
   "outputs": [],
   "source": [
    "display(table_descriptions[\"medevents\"])\n",
    "view_table(\"medevents\", 5, conn)"
   ]
  },
  {
   "cell_type": "markdown",
   "metadata": {},
   "source": [
    "Similar to the `d_patients` table, there are values like dose that are provided explicity (e.g. 1350) and the unit of measurement for dose (`doseuom=Uhr` (unit per hour), but there are also a large number of values (recognized by the `id` component in the name) that are references to values defined in other tables. These ids are called **foreign keys.** Some of these include:\n",
    "\n",
    "* `subect_id` that is defined in `d_patients`\n",
    "* `cgid` that is defined `d_caregivers`\n",
    "* `itemid` that is defined in `d_meditems`\n",
    "\n",
    "To fully understand an entry, we need to join the values that are provided in a `medevent` entry with the values defined in the other tables referred to with the `id` values (foreign keys).\n",
    "\n",
    "### Here is an example\n",
    "\n",
    "* Joining information from `medevents`, `d_caregivers`, `d_careunits`, `d_meditems`, and `d_patients`\n",
    "* I'm randomly selecting 50 cases"
   ]
  },
  {
   "cell_type": "code",
   "execution_count": null,
   "metadata": {},
   "outputs": [],
   "source": [
    "devents = pd.read_sql(\n",
    "\"\"\"SELECT me.subject_id,\n",
    "          dp.sex,\n",
    "          dp.dob,\n",
    "          me.charttime,\n",
    "          dm.label as medname,\n",
    "          me.dose,\n",
    "          me.doseuom,\n",
    "          me.route,\n",
    "          me.cgid,\n",
    "          dc.label as cglabel,\n",
    "          du.label as cuname\n",
    "   FROM ((((medevents AS me \n",
    "              INNER JOIN d_caregivers AS dc ON \n",
    "                  me.cgid = dc.cgid)\n",
    "              INNER JOIN d_careunits AS du ON\n",
    "                  me.cuid = du.cuid) \n",
    "              INNER JOIN d_meditems as dm ON\n",
    "                  me.itemid = dm.itemid) \n",
    "              INNER JOIN d_patients as dp ON\n",
    "                  me.subject_id = dp.subject_id) ORDER BY RAND() LIMIT 50\"\"\",conn)\n",
    "devents.head()"
   ]
  },
  {
   "cell_type": "markdown",
   "metadata": {},
   "source": [
    "### With a little bit of manipulation we can get the age\n",
    "\n",
    "* Compute age\n",
    "* Rename some of the columns, drop others\n",
    "* **Note:** I'm doing all this in Python. If I were better at SQL, these steps could all be done within the query"
   ]
  },
  {
   "cell_type": "code",
   "execution_count": null,
   "metadata": {},
   "outputs": [],
   "source": [
    "devents[\"age\"] = devents.apply(lambda r: (r.charttime - r.dob).days/365.2425, axis=1)\n",
    "devents2 = devents[[\"subject_id\", \"sex\", \"age\", \"charttime\", \"medname\", \n",
    "                   \"dose\", \"doseuom\", \"route\", \"cgid\", \"cglabel\", \"cuname\"]]\n",
    "devents2"
   ]
  },
  {
   "cell_type": "markdown",
   "metadata": {},
   "source": [
    "### Here is a simple (but ugly) view of what is in each table"
   ]
  },
  {
   "cell_type": "code",
   "execution_count": null,
   "metadata": {},
   "outputs": [],
   "source": [
    "tcs = get_table_columns(table_descriptions)\n",
    "HTML(ddict(tcs))"
   ]
  },
  {
   "cell_type": "markdown",
   "metadata": {},
   "source": [
    "#### Here is a simple interactive graph view of foreign keys and what they (might) refer to"
   ]
  },
  {
   "cell_type": "code",
   "execution_count": null,
   "metadata": {},
   "outputs": [],
   "source": [
    "\n",
    "    \n",
    "table_names = widgets.Dropdown(options = tcs.keys())\n",
    "col_names = widgets.Dropdown(options = tcs[table_names.value])\n",
    "\n",
    "def update_col_choices(change):\n",
    "    col_names.options = tcs[change.new]\n",
    "    \n",
    "table_names.observe(update_col_choices, names=\"value\")\n",
    "\n",
    "i1 = interact(view_db_graph, tbls=fixed(tcs), tbl = table_names, col=col_names)\n",
    "\n",
    "HTML(markdown(\"#### You can resize the graph by clicking on it.\"))"
   ]
  },
  {
   "cell_type": "markdown",
   "metadata": {},
   "source": [
    "### Some general comments\n",
    "\n",
    "The database we are using is a *demo* database. Some tables are empty and others have values and foreign keys that I cannot figure. For example, I cannot find where the column `solutionid` in `medevents` is referring to, so we cannot decipher. There is not great documentation.\n",
    "\n",
    "With completion of some simple online ethics training, you can get access to the complete version of [MIMIC (now MIMIC 3)](https://mimic.physionet.org/), which is well documented, has lots of example code available, and is one of the most valuable resources for clinical informatics research in the world."
   ]
  },
  {
   "cell_type": "markdown",
   "metadata": {},
   "source": [
    "### [Go on to the next notebook](visualize_case_timeline.ipynb)"
   ]
  },
  {
   "cell_type": "code",
   "execution_count": null,
   "metadata": {},
   "outputs": [],
   "source": []
  }
 ],
 "metadata": {
  "kernelspec": {
   "display_name": "Python 3",
   "language": "python",
   "name": "python3"
  },
  "language_info": {
   "codemirror_mode": {
    "name": "ipython",
    "version": 3
   },
   "file_extension": ".py",
   "mimetype": "text/x-python",
   "name": "python",
   "nbconvert_exporter": "python",
   "pygments_lexer": "ipython3",
   "version": "3.7.6"
  }
 },
 "nbformat": 4,
 "nbformat_minor": 4
}
